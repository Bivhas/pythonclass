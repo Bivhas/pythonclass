{
 "cells": [
  {
   "cell_type": "code",
   "execution_count": null,
   "id": "c3c796b9",
   "metadata": {},
   "outputs": [
    {
     "name": "stdout",
     "output_type": "stream",
     "text": [
      "['C', 'C++', 'Python', 'Java']\n",
      "Java\n",
      "['C', 'C++', 'Python']\n",
      "['Python', 'Java']\n",
      "['Java', 'Python', 'C++', 'C']\n"
     ]
    }
   ],
   "source": [
    "newList = [\"C\", \"C++\", \"Python\", \"Java\"]\n",
    "print(newList)\n",
    "print(newList[3])\n",
    "print(newList[:3])\n",
    "print(newList[2:])\n",
    "print(newList[::-1])\n"
   ]
  },
  {
   "cell_type": "code",
   "execution_count": null,
   "id": "604c6968",
   "metadata": {},
   "outputs": [
    {
     "name": "stdout",
     "output_type": "stream",
     "text": [
      "['__add__', '__class__', '__class_getitem__', '__contains__', '__delattr__', '__delitem__', '__dir__', '__doc__', '__eq__', '__format__', '__ge__', '__getattribute__', '__getitem__', '__getstate__', '__gt__', '__hash__', '__iadd__', '__imul__', '__init__', '__init_subclass__', '__iter__', '__le__', '__len__', '__lt__', '__mul__', '__ne__', '__new__', '__reduce__', '__reduce_ex__', '__repr__', '__reversed__', '__rmul__', '__setattr__', '__setitem__', '__sizeof__', '__str__', '__subclasshook__', 'append', 'clear', 'copy', 'count', 'extend', 'index', 'insert', 'pop', 'remove', 'reverse', 'sort']\n"
     ]
    }
   ],
   "source": [
    "print(dir(newList)) # all the attributes and methods that are available for the list object"
   ]
  },
  {
   "cell_type": "code",
   "execution_count": 15,
   "id": "9632c7fd",
   "metadata": {},
   "outputs": [
    {
     "name": "stdout",
     "output_type": "stream",
     "text": [
      "7\n",
      "C++\n",
      "hello\n"
     ]
    },
    {
     "data": {
      "text/plain": [
       "False"
      ]
     },
     "execution_count": 15,
     "metadata": {},
     "output_type": "execute_result"
    }
   ],
   "source": [
    "print(len(newList))\n",
    "print(newList[0])\n",
    "newList[0] = \"hello\"\n",
    "print(newList[0])\n",
    "\"C++\" in newList"
   ]
  },
  {
   "cell_type": "code",
   "execution_count": 16,
   "id": "4c441afc",
   "metadata": {},
   "outputs": [
    {
     "name": "stdout",
     "output_type": "stream",
     "text": [
      "['hello', 'Python', 'Java', 'Rust', 'Rust', 'Rust', 'Rust', 'Rust']\n",
      "['Python', 'Java', 'Rust', 'Rust', 'Rust', 'Rust', 'Rust']\n"
     ]
    }
   ],
   "source": [
    "newList.append(\"Rust\")\n",
    "print(newList)\n",
    "newList.remove(\"hello\")\n",
    "print(newList)"
   ]
  },
  {
   "cell_type": "code",
   "execution_count": 17,
   "id": "8f52ac16",
   "metadata": {},
   "outputs": [
    {
     "name": "stdout",
     "output_type": "stream",
     "text": [
      "['Java', 'Rust', 'Rust', 'Rust', 'Rust', 'Rust']\n"
     ]
    }
   ],
   "source": [
    "newList.pop(0)\n",
    "print(newList)"
   ]
  },
  {
   "cell_type": "code",
   "execution_count": 19,
   "id": "885cf9af",
   "metadata": {},
   "outputs": [
    {
     "name": "stdout",
     "output_type": "stream",
     "text": [
      "['C', 'C++', 'Rust', 'Python', 'Java']\n"
     ]
    }
   ],
   "source": [
    "newList = [\"C\", \"C++\", \"Python\", \"Java\"]\n",
    "newList.insert(2,\"Rust\")\n",
    "print(newList)\n"
   ]
  },
  {
   "cell_type": "code",
   "execution_count": 20,
   "id": "91717fd6",
   "metadata": {},
   "outputs": [
    {
     "name": "stdout",
     "output_type": "stream",
     "text": [
      "['C', 'C++', 'Java', 'Python', 'Rust']\n"
     ]
    }
   ],
   "source": [
    "newList.sort()\n",
    "print(newList)"
   ]
  },
  {
   "cell_type": "code",
   "execution_count": 21,
   "id": "3d5d6bc2",
   "metadata": {},
   "outputs": [
    {
     "name": "stdout",
     "output_type": "stream",
     "text": [
      "['Rust', 'Python', 'Java', 'C++', 'C']\n"
     ]
    }
   ],
   "source": [
    "newList.reverse()\n",
    "print(newList)"
   ]
  },
  {
   "cell_type": "code",
   "execution_count": 23,
   "id": "22fba1fe",
   "metadata": {},
   "outputs": [
    {
     "name": "stdout",
     "output_type": "stream",
     "text": [
      "[]\n"
     ]
    }
   ],
   "source": [
    "newList.clear()\n",
    "print(newList)"
   ]
  },
  {
   "cell_type": "code",
   "execution_count": 24,
   "id": "50976f41",
   "metadata": {},
   "outputs": [
    {
     "name": "stdout",
     "output_type": "stream",
     "text": [
      "0\n",
      "1\n"
     ]
    }
   ],
   "source": [
    "newList.append(\"apple\")\n",
    "newList.append(\"pineapple\")\n",
    "print(newList.index(\"apple\"))\n",
    "print(newList.index(\"pineapple\"))"
   ]
  },
  {
   "cell_type": "code",
   "execution_count": 25,
   "id": "5757a75c",
   "metadata": {},
   "outputs": [
    {
     "name": "stdout",
     "output_type": "stream",
     "text": [
      "1\n"
     ]
    }
   ],
   "source": [
    "print(newList.count(\"apple\"))"
   ]
  },
  {
   "cell_type": "code",
   "execution_count": 28,
   "id": "e485f37a",
   "metadata": {},
   "outputs": [
    {
     "name": "stdout",
     "output_type": "stream",
     "text": [
      "True\n",
      "True\n",
      "False\n",
      "True\n",
      "4\n"
     ]
    }
   ],
   "source": [
    "list1 = [1,2,3,[4,5]]\n",
    "print(1 in list1)\n",
    "print([4,5] in list1)\n",
    "print(4 in list1)\n",
    "print(4 in list1[3])\n",
    "print(list1[3][0])"
   ]
  },
  {
   "cell_type": "code",
   "execution_count": null,
   "id": "ffa963d5",
   "metadata": {},
   "outputs": [
    {
     "name": "stdout",
     "output_type": "stream",
     "text": [
      "[4, 5, [6, 7, 8], 9]\n",
      "[6, 7, 8]\n",
      "7\n"
     ]
    }
   ],
   "source": [
    "list1 = [1,2,3,[4,5,[6,7,8],9]]\n",
    "print(list1[3]) # printing the nested list\n",
    "print(list1[3][2]) # printing the nested list\n",
    "print(list1[3][2][1]) # printing 7"
   ]
  },
  {
   "cell_type": "code",
   "execution_count": 31,
   "id": "f5b8bdf0",
   "metadata": {},
   "outputs": [
    {
     "name": "stdout",
     "output_type": "stream",
     "text": [
      "[1, 4, 9, 16, 25]\n"
     ]
    }
   ],
   "source": [
    "squares = [x**2 for x in range(1,6)]\n",
    "print(squares)"
   ]
  },
  {
   "cell_type": "code",
   "execution_count": 34,
   "id": "2b56befa",
   "metadata": {},
   "outputs": [
    {
     "name": "stdout",
     "output_type": "stream",
     "text": [
      "['APPLE', 'BANANA', 'CHERRY']\n"
     ]
    }
   ],
   "source": [
    "words = ['apple', 'banana', 'cherry']\n",
    "uppercaseWords = [word.upper() for word in words]\n",
    "print(uppercaseWords)"
   ]
  },
  {
   "cell_type": "code",
   "execution_count": null,
   "id": "71af0313",
   "metadata": {},
   "outputs": [
    {
     "name": "stdout",
     "output_type": "stream",
     "text": [
      "{'orange', 'apple', 'banana', 'coconut'}\n",
      "['__and__', '__class__', '__class_getitem__', '__contains__', '__delattr__', '__dir__', '__doc__', '__eq__', '__format__', '__ge__', '__getattribute__', '__getstate__', '__gt__', '__hash__', '__iand__', '__init__', '__init_subclass__', '__ior__', '__isub__', '__iter__', '__ixor__', '__le__', '__len__', '__lt__', '__ne__', '__new__', '__or__', '__rand__', '__reduce__', '__reduce_ex__', '__repr__', '__ror__', '__rsub__', '__rxor__', '__setattr__', '__sizeof__', '__str__', '__sub__', '__subclasshook__', '__xor__', 'add', 'clear', 'copy', 'difference', 'difference_update', 'discard', 'intersection', 'intersection_update', 'isdisjoint', 'issubset', 'issuperset', 'pop', 'remove', 'symmetric_difference', 'symmetric_difference_update', 'union', 'update']\n"
     ]
    }
   ],
   "source": [
    "# Sets\n",
    "fruits = {\"apple\", \"orange\", \"banana\", \"coconut\", \"coconut\"} # No duplicates only one is printed\n",
    "print(fruits) # unordered so it will print in any order\n",
    "print(dir(fruits)) "
   ]
  },
  {
   "cell_type": "code",
   "execution_count": 38,
   "id": "b448466a",
   "metadata": {},
   "outputs": [
    {
     "name": "stdout",
     "output_type": "stream",
     "text": [
      "{'orange', 'banana', 'coconut'}\n"
     ]
    }
   ],
   "source": [
    "fruits.remove(\"apple\")\n",
    "print(fruits)"
   ]
  },
  {
   "cell_type": "code",
   "execution_count": 39,
   "id": "8075c72c",
   "metadata": {},
   "outputs": [
    {
     "name": "stdout",
     "output_type": "stream",
     "text": [
      "{'banana', 'coconut'}\n"
     ]
    }
   ],
   "source": [
    "fruits.pop()\n",
    "print(fruits)"
   ]
  },
  {
   "cell_type": "code",
   "execution_count": 43,
   "id": "b3bc5740",
   "metadata": {},
   "outputs": [],
   "source": [
    "newSet = {\"C\", \"C++\", \"Java\"}\n",
    "newSet.remove(\"C\")"
   ]
  },
  {
   "cell_type": "code",
   "execution_count": null,
   "id": "f7bf3fc8",
   "metadata": {},
   "outputs": [],
   "source": [
    "newSet.discard(\"C\") # it will remove \"C\" if it is present else don't throw error"
   ]
  },
  {
   "cell_type": "code",
   "execution_count": 47,
   "id": "1af86e47",
   "metadata": {},
   "outputs": [
    {
     "name": "stdout",
     "output_type": "stream",
     "text": [
      "('C', 'C++', 'Java', 'C')\n"
     ]
    }
   ],
   "source": [
    "# Tuple - ordered and unchangeable, duplicates ok, faster\n",
    "newtuple = (\"C\", \"C++\", \"Java\", \"C\")\n",
    "print(newtuple)"
   ]
  },
  {
   "cell_type": "code",
   "execution_count": 49,
   "id": "23ab4f7f",
   "metadata": {},
   "outputs": [
    {
     "name": "stdout",
     "output_type": "stream",
     "text": [
      "['__add__', '__class__', '__class_getitem__', '__contains__', '__delattr__', '__dir__', '__doc__', '__eq__', '__format__', '__ge__', '__getattribute__', '__getitem__', '__getnewargs__', '__getstate__', '__gt__', '__hash__', '__init__', '__init_subclass__', '__iter__', '__le__', '__len__', '__lt__', '__mul__', '__ne__', '__new__', '__reduce__', '__reduce_ex__', '__repr__', '__rmul__', '__setattr__', '__sizeof__', '__str__', '__subclasshook__', 'count', 'index']\n",
      "Help on tuple object:\n",
      "\n",
      "class tuple(object)\n",
      " |  tuple(iterable=(), /)\n",
      " |  \n",
      " |  Built-in immutable sequence.\n",
      " |  \n",
      " |  If no argument is given, the constructor returns an empty tuple.\n",
      " |  If iterable is specified the tuple is initialized from iterable's items.\n",
      " |  \n",
      " |  If the argument is a tuple, the return value is the same object.\n",
      " |  \n",
      " |  Built-in subclasses:\n",
      " |      asyncgen_hooks\n",
      " |      UnraisableHookArgs\n",
      " |  \n",
      " |  Methods defined here:\n",
      " |  \n",
      " |  __add__(self, value, /)\n",
      " |      Return self+value.\n",
      " |  \n",
      " |  __contains__(self, key, /)\n",
      " |      Return key in self.\n",
      " |  \n",
      " |  __eq__(self, value, /)\n",
      " |      Return self==value.\n",
      " |  \n",
      " |  __ge__(self, value, /)\n",
      " |      Return self>=value.\n",
      " |  \n",
      " |  __getattribute__(self, name, /)\n",
      " |      Return getattr(self, name).\n",
      " |  \n",
      " |  __getitem__(self, key, /)\n",
      " |      Return self[key].\n",
      " |  \n",
      " |  __getnewargs__(self, /)\n",
      " |  \n",
      " |  __gt__(self, value, /)\n",
      " |      Return self>value.\n",
      " |  \n",
      " |  __hash__(self, /)\n",
      " |      Return hash(self).\n",
      " |  \n",
      " |  __iter__(self, /)\n",
      " |      Implement iter(self).\n",
      " |  \n",
      " |  __le__(self, value, /)\n",
      " |      Return self<=value.\n",
      " |  \n",
      " |  __len__(self, /)\n",
      " |      Return len(self).\n",
      " |  \n",
      " |  __lt__(self, value, /)\n",
      " |      Return self<value.\n",
      " |  \n",
      " |  __mul__(self, value, /)\n",
      " |      Return self*value.\n",
      " |  \n",
      " |  __ne__(self, value, /)\n",
      " |      Return self!=value.\n",
      " |  \n",
      " |  __repr__(self, /)\n",
      " |      Return repr(self).\n",
      " |  \n",
      " |  __rmul__(self, value, /)\n",
      " |      Return value*self.\n",
      " |  \n",
      " |  count(self, value, /)\n",
      " |      Return number of occurrences of value.\n",
      " |  \n",
      " |  index(self, value, start=0, stop=9223372036854775807, /)\n",
      " |      Return first index of value.\n",
      " |      \n",
      " |      Raises ValueError if the value is not present.\n",
      " |  \n",
      " |  ----------------------------------------------------------------------\n",
      " |  Class methods defined here:\n",
      " |  \n",
      " |  __class_getitem__(...) from builtins.type\n",
      " |      See PEP 585\n",
      " |  \n",
      " |  ----------------------------------------------------------------------\n",
      " |  Static methods defined here:\n",
      " |  \n",
      " |  __new__(*args, **kwargs) from builtins.type\n",
      " |      Create and return a new object.  See help(type) for accurate signature.\n",
      "\n",
      "None\n"
     ]
    }
   ],
   "source": [
    "print(dir(newtuple))\n",
    "print(help(newtuple))"
   ]
  },
  {
   "cell_type": "code",
   "execution_count": 51,
   "id": "4366ae3b",
   "metadata": {},
   "outputs": [
    {
     "name": "stdout",
     "output_type": "stream",
     "text": [
      "C\n",
      "2\n",
      "0\n"
     ]
    }
   ],
   "source": [
    "print(newtuple[0])\n",
    "print(newtuple.count(\"C\"))\n",
    "print(newtuple.index(\"C\"))"
   ]
  },
  {
   "cell_type": "code",
   "execution_count": 52,
   "id": "1cf627fe",
   "metadata": {},
   "outputs": [
    {
     "name": "stdout",
     "output_type": "stream",
     "text": [
      "('apple', 'banana', 'strawberry')\n"
     ]
    }
   ],
   "source": [
    "newTuple = (\"apple\", \"banana\")\n",
    "y = (\"strawberry\", )\n",
    "newTuple+=y\n",
    "print(newTuple)"
   ]
  },
  {
   "cell_type": "code",
   "execution_count": null,
   "id": "41dffd40",
   "metadata": {},
   "outputs": [
    {
     "name": "stdout",
     "output_type": "stream",
     "text": [
      "apple\n",
      "banana\n",
      "cherry\n",
      "orange\n",
      "apple\n",
      "banana\n",
      "['cherry', 'orange']\n"
     ]
    },
    {
     "ename": "SyntaxError",
     "evalue": "multiple starred expressions in assignment (1797839332.py, line 12)",
     "output_type": "error",
     "traceback": [
      "  \u001b[36mCell\u001b[39m\u001b[36m \u001b[39m\u001b[32mIn[58]\u001b[39m\u001b[32m, line 12\u001b[39m\n\u001b[31m    \u001b[39m\u001b[31m(green, *yellow, *red) = fruits\u001b[39m\n    ^\n\u001b[31mSyntaxError\u001b[39m\u001b[31m:\u001b[39m multiple starred expressions in assignment\n"
     ]
    }
   ],
   "source": [
    "# Tuples Unpacking\n",
    "fruits = ('apple', 'banana', 'cherry', 'orange')\n",
    "(green, yellow, red, blue)=fruits # unpacking\n",
    "print(green)\n",
    "print(yellow)\n",
    "print(red)\n",
    "print(blue)\n",
    "(green, yellow, *red)=fruits # remaining elements\n",
    "print(green)\n",
    "print(yellow)\n",
    "print(red)\n",
    "(green, *yellow, *red) = fruits # ERROR\n",
    "print(yellow)\n",
    "print(red)"
   ]
  },
  {
   "cell_type": "code",
   "execution_count": 59,
   "id": "1bda07f7",
   "metadata": {},
   "outputs": [
    {
     "name": "stdout",
     "output_type": "stream",
     "text": [
      "(1, 2, (3, 4), ['a', 'b'])\n"
     ]
    }
   ],
   "source": [
    "# Nested Tuplse\n",
    "t = (1,2,(3,4),[\"a\",\"b\"])\n",
    "print(t)"
   ]
  },
  {
   "cell_type": "code",
   "execution_count": null,
   "id": "cc144396",
   "metadata": {},
   "outputs": [
    {
     "name": "stdout",
     "output_type": "stream",
     "text": [
      "<class 'str'>\n"
     ]
    },
    {
     "ename": "TypeError",
     "evalue": "'list' object is not callable",
     "output_type": "error",
     "traceback": [
      "\u001b[31m---------------------------------------------------------------------------\u001b[39m",
      "\u001b[31mTypeError\u001b[39m                                 Traceback (most recent call last)",
      "\u001b[36mCell\u001b[39m\u001b[36m \u001b[39m\u001b[32mIn[62]\u001b[39m\u001b[32m, line 3\u001b[39m\n\u001b[32m      1\u001b[39m fruits = (\u001b[33m\"\u001b[39m\u001b[33mapple\u001b[39m\u001b[33m\"\u001b[39m) \u001b[38;5;66;03m# its a str\u001b[39;00m\n\u001b[32m      2\u001b[39m \u001b[38;5;28mprint\u001b[39m(\u001b[38;5;28mtype\u001b[39m(fruits))\n\u001b[32m----> \u001b[39m\u001b[32m3\u001b[39m \u001b[38;5;28;43mlist\u001b[39;49m\u001b[43m(\u001b[49m\u001b[43mfruits\u001b[49m\u001b[43m)\u001b[49m\n\u001b[32m      4\u001b[39m \u001b[38;5;28mtype\u001b[39m(fruits)\n",
      "\u001b[31mTypeError\u001b[39m: 'list' object is not callable"
     ]
    }
   ],
   "source": [
    "fruits = (\"apple\") # its a str\n",
    "print(type(fruits))\n",
    "print(list(fruits))"
   ]
  },
  {
   "cell_type": "code",
   "execution_count": 63,
   "id": "98b554b4",
   "metadata": {},
   "outputs": [
    {
     "name": "stdout",
     "output_type": "stream",
     "text": [
      "<class 'str'>\n"
     ]
    }
   ],
   "source": [
    "print(type(fruits))"
   ]
  },
  {
   "cell_type": "code",
   "execution_count": null,
   "id": "866fd98a",
   "metadata": {},
   "outputs": [
    {
     "name": "stdout",
     "output_type": "stream",
     "text": [
      "[1, 'hello', 3.14, True] (1, 'hello', 3.14, True) {1, 3.14, 'hello'}\n"
     ]
    }
   ],
   "source": [
    "list1 = [1, \"hello\", 3.14, True]\n",
    "tuple = (1, \"hello\", 3.14, True)\n",
    "set = {1, \"hello\", 3.14, True}\n",
    "print(list1, tuple, set)"
   ]
  },
  {
   "cell_type": "code",
   "execution_count": null,
   "id": "4640d616",
   "metadata": {},
   "outputs": [
    {
     "name": "stdout",
     "output_type": "stream",
     "text": [
      "We have strawberry in the list\n"
     ]
    }
   ],
   "source": [
    "list1 = [\"apple\", \"orange\", \"mango\", \"strawberry\"]\n",
    "if \"strawberry\" in list1:\n",
    "    print(\"We have strawberry in the list\")\n",
    "else:\n",
    "    print(\"We don't have strawberry in the list\")"
   ]
  },
  {
   "cell_type": "code",
   "execution_count": 70,
   "id": "8e3d4c32",
   "metadata": {},
   "outputs": [
    {
     "name": "stdout",
     "output_type": "stream",
     "text": [
      "apple\n",
      "orange\n",
      "mango\n",
      "strawberry\n",
      "['apple', 'orange', 'mango', 'strawberry', 'apple', 'orange', 'mango', 'strawberry']\n"
     ]
    }
   ],
   "source": [
    "i = 0 \n",
    "while i<len(list):\n",
    "    print(list[i])\n",
    "    i+=1\n",
    "print(list*2)"
   ]
  },
  {
   "cell_type": "code",
   "execution_count": 79,
   "id": "1780dccd",
   "metadata": {},
   "outputs": [
    {
     "ename": "TypeError",
     "evalue": "'tuple' object is not callable",
     "output_type": "error",
     "traceback": [
      "\u001b[31m---------------------------------------------------------------------------\u001b[39m",
      "\u001b[31mTypeError\u001b[39m                                 Traceback (most recent call last)",
      "\u001b[36mCell\u001b[39m\u001b[36m \u001b[39m\u001b[32mIn[79]\u001b[39m\u001b[32m, line 7\u001b[39m\n\u001b[32m      5\u001b[39m \u001b[38;5;66;03m# Create a list and a tuple\u001b[39;00m\n\u001b[32m      6\u001b[39m L = \u001b[38;5;28mlist\u001b[39m(\u001b[38;5;28mrange\u001b[39m(\u001b[32m100000\u001b[39m))\n\u001b[32m----> \u001b[39m\u001b[32m7\u001b[39m T = \u001b[38;5;28;43mtuple\u001b[39;49m\u001b[43m(\u001b[49m\u001b[38;5;28;43mrange\u001b[39;49m\u001b[43m(\u001b[49m\u001b[32;43m100000\u001b[39;49m\u001b[43m)\u001b[49m\u001b[43m)\u001b[49m\n\u001b[32m      9\u001b[39m \u001b[38;5;66;03m# 1. Memory Usage\u001b[39;00m\n\u001b[32m     10\u001b[39m \u001b[38;5;28mprint\u001b[39m(\u001b[33m\"\u001b[39m\u001b[33mMemory size of list: \u001b[39m\u001b[33m\"\u001b[39m, sys.getsizeof(L), \u001b[33m\"\u001b[39m\u001b[33mbytes\u001b[39m\u001b[33m\"\u001b[39m)\n",
      "\u001b[31mTypeError\u001b[39m: 'tuple' object is not callable"
     ]
    }
   ],
   "source": [
    "# time complexity\n",
    "import time\n",
    "import sys\n",
    "\n",
    "# Create a list and a tuple\n",
    "L = list(range(100000))\n",
    "T = tuple(range(100000))\n",
    "\n",
    "# 1. Memory Usage\n",
    "print(\"Memory size of list: \", sys.getsizeof(L), \"bytes\")\n",
    "print(\"Memory size of tuple:\", sys.getsizeof(T), \"bytes\")\n",
    "\n",
    "# 2. Access Time\n",
    "start = time.time()\n",
    "L[50000]\n",
    "end = time.time()\n",
    "print(\"Access time for list: \", (end - start), \"seconds\")\n",
    "\n",
    "start = time.time()\n",
    "T[50000]\n",
    "end = time.time()\n",
    "print(\"Access time for tuple:\", (end - start), \"seconds\")\n",
    "\n",
    "# 3. Iteration Time\n",
    "start = time.time()\n",
    "for item in L:\n",
    "    pass\n",
    "end = time.time()\n",
    "print(\"Iteration time for list: \", (end - start), \"seconds\")\n",
    "\n",
    "start = time.time()\n",
    "for item in T:\n",
    "    pass\n",
    "end = time.time()\n",
    "print(\"Iteration time for tuple:\", (end - start), \"seconds\")"
   ]
  },
  {
   "cell_type": "code",
   "execution_count": 90,
   "id": "72c57ee4",
   "metadata": {},
   "outputs": [
    {
     "name": "stdout",
     "output_type": "stream",
     "text": [
      "{1: 'fists', 'name': 'Alice', 'age': 20, 'courses': ['Math', 'Sci']}\n",
      "Alice\n",
      "20\n",
      "Math\n",
      "['__class__', '__class_getitem__', '__contains__', '__delattr__', '__delitem__', '__dir__', '__doc__', '__eq__', '__format__', '__ge__', '__getattribute__', '__getitem__', '__getstate__', '__gt__', '__hash__', '__init__', '__init_subclass__', '__ior__', '__iter__', '__le__', '__len__', '__lt__', '__ne__', '__new__', '__or__', '__reduce__', '__reduce_ex__', '__repr__', '__reversed__', '__ror__', '__setattr__', '__setitem__', '__sizeof__', '__str__', '__subclasshook__', 'clear', 'copy', 'fromkeys', 'get', 'items', 'keys', 'pop', 'popitem', 'setdefault', 'update', 'values']\n",
      "Help on dict object:\n",
      "\n",
      "class dict(object)\n",
      " |  dict() -> new empty dictionary\n",
      " |  dict(mapping) -> new dictionary initialized from a mapping object's\n",
      " |      (key, value) pairs\n",
      " |  dict(iterable) -> new dictionary initialized as if via:\n",
      " |      d = {}\n",
      " |      for k, v in iterable:\n",
      " |          d[k] = v\n",
      " |  dict(**kwargs) -> new dictionary initialized with the name=value pairs\n",
      " |      in the keyword argument list.  For example:  dict(one=1, two=2)\n",
      " |  \n",
      " |  Built-in subclasses:\n",
      " |      StgDict\n",
      " |  \n",
      " |  Methods defined here:\n",
      " |  \n",
      " |  __contains__(self, key, /)\n",
      " |      True if the dictionary has the specified key, else False.\n",
      " |  \n",
      " |  __delitem__(self, key, /)\n",
      " |      Delete self[key].\n",
      " |  \n",
      " |  __eq__(self, value, /)\n",
      " |      Return self==value.\n",
      " |  \n",
      " |  __ge__(self, value, /)\n",
      " |      Return self>=value.\n",
      " |  \n",
      " |  __getattribute__(self, name, /)\n",
      " |      Return getattr(self, name).\n",
      " |  \n",
      " |  __getitem__(...)\n",
      " |      x.__getitem__(y) <==> x[y]\n",
      " |  \n",
      " |  __gt__(self, value, /)\n",
      " |      Return self>value.\n",
      " |  \n",
      " |  __init__(self, /, *args, **kwargs)\n",
      " |      Initialize self.  See help(type(self)) for accurate signature.\n",
      " |  \n",
      " |  __ior__(self, value, /)\n",
      " |      Return self|=value.\n",
      " |  \n",
      " |  __iter__(self, /)\n",
      " |      Implement iter(self).\n",
      " |  \n",
      " |  __le__(self, value, /)\n",
      " |      Return self<=value.\n",
      " |  \n",
      " |  __len__(self, /)\n",
      " |      Return len(self).\n",
      " |  \n",
      " |  __lt__(self, value, /)\n",
      " |      Return self<value.\n",
      " |  \n",
      " |  __ne__(self, value, /)\n",
      " |      Return self!=value.\n",
      " |  \n",
      " |  __or__(self, value, /)\n",
      " |      Return self|value.\n",
      " |  \n",
      " |  __repr__(self, /)\n",
      " |      Return repr(self).\n",
      " |  \n",
      " |  __reversed__(self, /)\n",
      " |      Return a reverse iterator over the dict keys.\n",
      " |  \n",
      " |  __ror__(self, value, /)\n",
      " |      Return value|self.\n",
      " |  \n",
      " |  __setitem__(self, key, value, /)\n",
      " |      Set self[key] to value.\n",
      " |  \n",
      " |  __sizeof__(...)\n",
      " |      D.__sizeof__() -> size of D in memory, in bytes\n",
      " |  \n",
      " |  clear(...)\n",
      " |      D.clear() -> None.  Remove all items from D.\n",
      " |  \n",
      " |  copy(...)\n",
      " |      D.copy() -> a shallow copy of D\n",
      " |  \n",
      " |  get(self, key, default=None, /)\n",
      " |      Return the value for key if key is in the dictionary, else default.\n",
      " |  \n",
      " |  items(...)\n",
      " |      D.items() -> a set-like object providing a view on D's items\n",
      " |  \n",
      " |  keys(...)\n",
      " |      D.keys() -> a set-like object providing a view on D's keys\n",
      " |  \n",
      " |  pop(...)\n",
      " |      D.pop(k[,d]) -> v, remove specified key and return the corresponding value.\n",
      " |      \n",
      " |      If the key is not found, return the default if given; otherwise,\n",
      " |      raise a KeyError.\n",
      " |  \n",
      " |  popitem(self, /)\n",
      " |      Remove and return a (key, value) pair as a 2-tuple.\n",
      " |      \n",
      " |      Pairs are returned in LIFO (last-in, first-out) order.\n",
      " |      Raises KeyError if the dict is empty.\n",
      " |  \n",
      " |  setdefault(self, key, default=None, /)\n",
      " |      Insert key with a value of default if key is not in the dictionary.\n",
      " |      \n",
      " |      Return the value for key if key is in the dictionary, else default.\n",
      " |  \n",
      " |  update(...)\n",
      " |      D.update([E, ]**F) -> None.  Update D from dict/iterable E and F.\n",
      " |      If E is present and has a .keys() method, then does:  for k in E: D[k] = E[k]\n",
      " |      If E is present and lacks a .keys() method, then does:  for k, v in E: D[k] = v\n",
      " |      In either case, this is followed by: for k in F:  D[k] = F[k]\n",
      " |  \n",
      " |  values(...)\n",
      " |      D.values() -> an object providing a view on D's values\n",
      " |  \n",
      " |  ----------------------------------------------------------------------\n",
      " |  Class methods defined here:\n",
      " |  \n",
      " |  __class_getitem__(...) from builtins.type\n",
      " |      See PEP 585\n",
      " |  \n",
      " |  fromkeys(iterable, value=None, /) from builtins.type\n",
      " |      Create a new dictionary with keys from iterable and values set to value.\n",
      " |  \n",
      " |  ----------------------------------------------------------------------\n",
      " |  Static methods defined here:\n",
      " |  \n",
      " |  __new__(*args, **kwargs) from builtins.type\n",
      " |      Create and return a new object.  See help(type) for accurate signature.\n",
      " |  \n",
      " |  ----------------------------------------------------------------------\n",
      " |  Data and other attributes defined here:\n",
      " |  \n",
      " |  __hash__ = None\n",
      "\n",
      "None\n"
     ]
    }
   ],
   "source": [
    "# Dictionaly, unordered, mutable, indexed data\n",
    "dictionary = {\n",
    "    1: \"fists\",\n",
    "    \"name\": \"Alice\",\n",
    "    \"age\": 20,\n",
    "    \"courses\": [\"Math\", \"Sci\"]\n",
    "}\n",
    "print(dictionary)\n",
    "print(dictionary[\"name\"])\n",
    "print(dictionary.get(\"age\"))\n",
    "print(dictionary[\"courses\"][0]) # 0th index of courses list\n",
    "\n",
    "print(dir(dictionary))\n",
    "print(help(dictionary))\n"
   ]
  },
  {
   "cell_type": "code",
   "execution_count": 92,
   "id": "24d70e0a",
   "metadata": {},
   "outputs": [
    {
     "ename": "TypeError",
     "evalue": "'dict' object is not callable",
     "output_type": "error",
     "traceback": [
      "\u001b[31m---------------------------------------------------------------------------\u001b[39m",
      "\u001b[31mTypeError\u001b[39m                                 Traceback (most recent call last)",
      "\u001b[36mCell\u001b[39m\u001b[36m \u001b[39m\u001b[32mIn[92]\u001b[39m\u001b[32m, line 2\u001b[39m\n\u001b[32m      1\u001b[39m \u001b[38;5;66;03m# using dict constructor\u001b[39;00m\n\u001b[32m----> \u001b[39m\u001b[32m2\u001b[39m student = \u001b[38;5;28;43mdict\u001b[39;49m\u001b[43m(\u001b[49m\u001b[43mname\u001b[49m\u001b[43m \u001b[49m\u001b[43m=\u001b[49m\u001b[43m \u001b[49m\u001b[33;43m\"\u001b[39;49m\u001b[33;43mAlice\u001b[39;49m\u001b[33;43m\"\u001b[39;49m\u001b[43m,\u001b[49m\u001b[43m \u001b[49m\u001b[43mage\u001b[49m\u001b[43m \u001b[49m\u001b[43m=\u001b[49m\u001b[32;43m30\u001b[39;49m\u001b[43m,\u001b[49m\u001b[43m \u001b[49m\u001b[43mcity\u001b[49m\u001b[43m \u001b[49m\u001b[43m=\u001b[49m\u001b[43m \u001b[49m\u001b[33;43m\"\u001b[39;49m\u001b[33;43mLondon\u001b[39;49m\u001b[33;43m\"\u001b[39;49m\u001b[43m)\u001b[49m\n\u001b[32m      3\u001b[39m \u001b[38;5;28mprint\u001b[39m(student)\n",
      "\u001b[31mTypeError\u001b[39m: 'dict' object is not callable"
     ]
    }
   ],
   "source": [
    "# using dict constructor\n",
    "student = dict(name = \"Alice\", age =30, city = \"London\")\n",
    "print(student)"
   ]
  },
  {
   "cell_type": "code",
   "execution_count": 98,
   "id": "2aaa937c",
   "metadata": {},
   "outputs": [
    {
     "ename": "NameError",
     "evalue": "name 'dictionary' is not defined",
     "output_type": "error",
     "traceback": [
      "\u001b[31m---------------------------------------------------------------------------\u001b[39m",
      "\u001b[31mNameError\u001b[39m                                 Traceback (most recent call last)",
      "\u001b[36mCell\u001b[39m\u001b[36m \u001b[39m\u001b[32mIn[98]\u001b[39m\u001b[32m, line 1\u001b[39m\n\u001b[32m----> \u001b[39m\u001b[32m1\u001b[39m \u001b[43mdictionary\u001b[49m[\u001b[33m\"\u001b[39m\u001b[33mname\u001b[39m\u001b[33m\"\u001b[39m] = \u001b[33m\"\u001b[39m\u001b[33mRam\u001b[39m\u001b[33m\"\u001b[39m\n\u001b[32m      2\u001b[39m dictionary[\u001b[33m\"\u001b[39m\u001b[33mage\u001b[39m\u001b[33m\"\u001b[39m] = \u001b[32m19\u001b[39m\n\u001b[32m      3\u001b[39m \u001b[38;5;28mprint\u001b[39m(dictionary)\n",
      "\u001b[31mNameError\u001b[39m: name 'dictionary' is not defined"
     ]
    }
   ],
   "source": [
    "dictionary[\"name\"] = \"Ram\"\n",
    "dictionary[\"age\"] = 19\n",
    "print(dictionary)\n",
    "dictionary = {\n",
    "    2: \"second\",\n",
    "    \"name\": \"Shyam\",\n",
    "    \"age\": 20,\n",
    "    \"courses\": [\"CS\"]\n",
    "}\n",
    "print(dictionary)"
   ]
  },
  {
   "cell_type": "code",
   "execution_count": 97,
   "id": "e0fe3785",
   "metadata": {},
   "outputs": [
    {
     "ename": "NameError",
     "evalue": "name 'dictionary' is not defined",
     "output_type": "error",
     "traceback": [
      "\u001b[31m---------------------------------------------------------------------------\u001b[39m",
      "\u001b[31mNameError\u001b[39m                                 Traceback (most recent call last)",
      "\u001b[36mCell\u001b[39m\u001b[36m \u001b[39m\u001b[32mIn[97]\u001b[39m\u001b[32m, line 1\u001b[39m\n\u001b[32m----> \u001b[39m\u001b[32m1\u001b[39m \u001b[38;5;28;01mdel\u001b[39;00m \u001b[43mdictionary\u001b[49m\n",
      "\u001b[31mNameError\u001b[39m: name 'dictionary' is not defined"
     ]
    }
   ],
   "source": [
    "del dictionary"
   ]
  },
  {
   "cell_type": "code",
   "execution_count": 100,
   "id": "82f9386b",
   "metadata": {},
   "outputs": [
    {
     "name": "stdout",
     "output_type": "stream",
     "text": [
      "{'name': 'Ram', 'age': 19}\n",
      "Name exists\n"
     ]
    }
   ],
   "source": [
    "dictionary = {\n",
    "    \"name\": \"Ram\",\n",
    "    \"age\": 19\n",
    "}\n",
    "print(dictionary)\n",
    "if \"Ram\" in dictionary.values():\n",
    "    print(\"Name exists\")\n",
    "else:\n",
    "    print(\"Name does not exist\")"
   ]
  },
  {
   "cell_type": "code",
   "execution_count": 104,
   "id": "f7047277",
   "metadata": {},
   "outputs": [
    {
     "name": "stdout",
     "output_type": "stream",
     "text": [
      "name\n",
      "age\n",
      "\n",
      "\n",
      "Ram\n",
      "19\n",
      "\n",
      "\n",
      "name Ram\n",
      "age 19\n"
     ]
    }
   ],
   "source": [
    "for key in dictionary:\n",
    "    print(key)\n",
    "print(\"\\n\")\n",
    "for value in dictionary.values():\n",
    "    print(value)\n",
    "print(\"\\n\")\n",
    "for key, value in dictionary.items():\n",
    "    print(key, value)"
   ]
  },
  {
   "cell_type": "code",
   "execution_count": 108,
   "id": "af30bdca",
   "metadata": {},
   "outputs": [
    {
     "name": "stdout",
     "output_type": "stream",
     "text": [
      "{'name': 'Ram', 'age': 18}\n",
      "Ram\n"
     ]
    }
   ],
   "source": [
    "# Nested Dictionary\n",
    "newDict = {\n",
    "    \"student1\": {\"name\": \"Ram\", \"age\": 18},\n",
    "    \"student2\": {\"name\": \"Shyam\", \"age\": 19}\n",
    "}\n",
    "print(newDict[\"student1\"])\n",
    "print(newDict[\"student1\"][\"name\"])"
   ]
  },
  {
   "cell_type": "code",
   "execution_count": 107,
   "id": "793c86d7",
   "metadata": {},
   "outputs": [
    {
     "name": "stdout",
     "output_type": "stream",
     "text": [
      "{0: 0, 1: 1, 2: 4, 3: 9, 4: 16}\n"
     ]
    }
   ],
   "source": [
    "# Dictionary Comprehesoion\n",
    "squares = {x: x*x for x in range(5)}\n",
    "print(squares)"
   ]
  },
  {
   "cell_type": "code",
   "execution_count": null,
   "id": "1f2232ed",
   "metadata": {},
   "outputs": [],
   "source": []
  }
 ],
 "metadata": {
  "kernelspec": {
   "display_name": "Python 3",
   "language": "python",
   "name": "python3"
  },
  "language_info": {
   "codemirror_mode": {
    "name": "ipython",
    "version": 3
   },
   "file_extension": ".py",
   "mimetype": "text/x-python",
   "name": "python",
   "nbconvert_exporter": "python",
   "pygments_lexer": "ipython3",
   "version": "3.11.4"
  }
 },
 "nbformat": 4,
 "nbformat_minor": 5
}
